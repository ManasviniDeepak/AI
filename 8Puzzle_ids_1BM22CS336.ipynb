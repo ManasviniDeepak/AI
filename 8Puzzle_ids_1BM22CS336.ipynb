{
  "nbformat": 4,
  "nbformat_minor": 0,
  "metadata": {
    "colab": {
      "provenance": []
    },
    "kernelspec": {
      "name": "python3",
      "display_name": "Python 3"
    },
    "language_info": {
      "name": "python"
    }
  },
  "cells": [
    {
      "cell_type": "code",
      "execution_count": 1,
      "metadata": {
        "colab": {
          "base_uri": "https://localhost:8080/"
        },
        "id": "WCNqvb02Zx3h",
        "outputId": "f4d107e7-13f8-45dc-f2bb-5c1bbd95e5e9"
      },
      "outputs": [
        {
          "output_type": "stream",
          "name": "stdout",
          "text": [
            "Solution found:\n",
            "[1, 2, 3]\n",
            "[4, 5, 6]\n",
            "[7, 8, 0]\n"
          ]
        }
      ],
      "source": [
        "class PuzzleState:\n",
        "    def __init__(self, board, empty_tile_position, moves=0):\n",
        "        self.board = board\n",
        "        self.empty_tile_position = empty_tile_position\n",
        "        self.moves = moves\n",
        "\n",
        "    def is_goal(self):\n",
        "        return self.board == [1, 2, 3, 4, 5, 6, 7, 8, 0]\n",
        "\n",
        "    def get_possible_moves(self):\n",
        "        x, y = self.empty_tile_position\n",
        "        moves = []\n",
        "        if x > 0:  # Up\n",
        "            moves.append((-1, 0))\n",
        "        if x < 2:  # Down\n",
        "            moves.append((1, 0))\n",
        "        if y > 0:  # Left\n",
        "            moves.append((0, -1))\n",
        "        if y < 2:  # Right\n",
        "            moves.append((0, 1))\n",
        "        return moves\n",
        "\n",
        "    def make_move(self, direction):\n",
        "        x, y = self.empty_tile_position\n",
        "        dx, dy = direction\n",
        "        new_x, new_y = x + dx, y + dy\n",
        "        new_board = self.board[:]\n",
        "        # Swap the empty tile with the adjacent tile\n",
        "        new_board[x * 3 + y], new_board[new_x * 3 + new_y] = new_board[new_x * 3 + new_y], new_board[x * 3 + y]\n",
        "        return PuzzleState(new_board, (new_x, new_y), self.moves + 1)\n",
        "\n",
        "    def __str__(self):\n",
        "        return f\"{self.board[0:3]}\\n{self.board[3:6]}\\n{self.board[6:9]}\"\n",
        "\n",
        "def depth_limited_search(state, depth):\n",
        "    if state.is_goal():\n",
        "        return state\n",
        "    if depth == 0:\n",
        "        return None\n",
        "    for move in state.get_possible_moves():\n",
        "        next_state = state.make_move(move)\n",
        "        result = depth_limited_search(next_state, depth - 1)\n",
        "        if result is not None:\n",
        "            return result\n",
        "    return None\n",
        "\n",
        "def iterative_deepening_search(initial_state):\n",
        "    depth = 0\n",
        "    while True:\n",
        "        result = depth_limited_search(initial_state, depth)\n",
        "        if result is not None:\n",
        "            return result\n",
        "        depth += 1\n",
        "\n",
        "\n",
        "if __name__ == \"__main__\":\n",
        "    initial_board = [1, 2, 3, 4, 0, 5, 7, 8, 6]\n",
        "    empty_tile_pos = (1, 1)\n",
        "    initial_state = PuzzleState(initial_board, empty_tile_pos)\n",
        "\n",
        "    solution = iterative_deepening_search(initial_state)\n",
        "\n",
        "    if solution:\n",
        "        print(\"Solution found:\")\n",
        "        print(solution)\n",
        "    else:\n",
        "        print(\"No solution found.\")\n",
        "\n",
        "\n"
      ]
    }
  ]
}