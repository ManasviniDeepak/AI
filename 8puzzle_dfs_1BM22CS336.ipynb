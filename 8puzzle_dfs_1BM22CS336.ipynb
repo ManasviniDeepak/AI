{
  "nbformat": 4,
  "nbformat_minor": 0,
  "metadata": {
    "colab": {
      "provenance": []
    },
    "kernelspec": {
      "name": "python3",
      "display_name": "Python 3"
    },
    "language_info": {
      "name": "python"
    }
  },
  "cells": [
    {
      "cell_type": "code",
      "execution_count": 6,
      "metadata": {
        "colab": {
          "base_uri": "https://localhost:8080/"
        },
        "id": "fOWKLaOwNoDG",
        "outputId": "024423d0-1623-4ef4-c652-6a0ebeae993b"
      },
      "outputs": [
        {
          "output_type": "stream",
          "name": "stdout",
          "text": [
            "Solution found with moves: RD\n",
            "Final board state:\n",
            "1 2 3\n",
            "4 5 6\n",
            "7 8 0\n"
          ]
        }
      ],
      "source": [
        "from collections import deque\n",
        "\n",
        "class PuzzleState:\n",
        "    def __init__(self, board, empty_tile_pos, path=\"\"):\n",
        "        self.board = board\n",
        "        self.empty_tile_pos = empty_tile_pos  # (row, col)\n",
        "        self.path = path  # Path taken to reach this state\n",
        "\n",
        "    def __str__(self):\n",
        "        return '\\n'.join([' '.join(map(str, row)) for row in self.board])\n",
        "\n",
        "    def is_goal(self):\n",
        "        return self.board == [[1, 2, 3], [4, 5, 6], [7, 8, 0]]\n",
        "\n",
        "    def get_possible_moves(self):\n",
        "        moves = []\n",
        "        row, col = self.empty_tile_pos\n",
        "        directions = [(-1, 0, 'U'), (1, 0, 'D'), (0, -1, 'L'), (0, 1, 'R')]  # Up, Down, Left, Right\n",
        "\n",
        "        for drow, dcol, direction in directions:\n",
        "            new_row, new_col = row + drow, col + dcol\n",
        "            if 0 <= new_row < 3 and 0 <= new_col < 3:  # Valid move\n",
        "                new_board = [r[:] for r in self.board]  # Deep copy the board\n",
        "                new_board[row][col], new_board[new_row][new_col] = new_board[new_row][new_col], new_board[row][col]\n",
        "                moves.append((new_board, (new_row, new_col), self.path + direction))\n",
        "\n",
        "        return moves\n",
        "\n",
        "def dfs(initial_state):\n",
        "    stack = [initial_state]\n",
        "    visited = set()\n",
        "\n",
        "    while stack:\n",
        "        current_state = stack.pop()\n",
        "\n",
        "        if current_state.is_goal():\n",
        "            return current_state.board, current_state.path\n",
        "\n",
        "        visited.add(str(current_state.board))\n",
        "\n",
        "        for new_board, new_empty_pos, new_path in current_state.get_possible_moves():\n",
        "            if str(new_board) not in visited:\n",
        "                stack.append(PuzzleState(new_board, new_empty_pos, new_path))\n",
        "\n",
        "    return None\n",
        "\n",
        "if __name__ == \"__main__\":\n",
        "    initial_board = [[1, 2, 3],\n",
        "                     [4, 0, 5],\n",
        "                     [7, 8, 6]]\n",
        "    empty_tile_position = (1, 1)\n",
        "\n",
        "    initial_state = PuzzleState(initial_board, empty_tile_position)\n",
        "    solution = dfs(initial_state)\n",
        "\n",
        "    if solution:\n",
        "        final_board, moves = solution\n",
        "        print(\"Solution found with moves:\", moves)\n",
        "        print(\"Final board state:\")\n",
        "        print('\\n'.join([' '.join(map(str, row)) for row in final_board]))\n",
        "    else:\n",
        "        print(\"No solution exists.\")\n"
      ]
    },
    {
      "cell_type": "code",
      "source": [],
      "metadata": {
        "id": "FAgvyj3rR_t4"
      },
      "execution_count": 8,
      "outputs": []
    },
    {
      "cell_type": "code",
      "source": [],
      "metadata": {
        "id": "fk-psNsZUX6-"
      },
      "execution_count": null,
      "outputs": []
    }
  ]
}