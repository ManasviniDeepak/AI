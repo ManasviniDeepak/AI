{
  "nbformat": 4,
  "nbformat_minor": 0,
  "metadata": {
    "colab": {
      "provenance": [],
      "authorship_tag": "ABX9TyNqchqySzFV+VjVSTKTQc3B",
      "include_colab_link": true
    },
    "kernelspec": {
      "name": "python3",
      "display_name": "Python 3"
    },
    "language_info": {
      "name": "python"
    }
  },
  "cells": [
    {
      "cell_type": "markdown",
      "metadata": {
        "id": "view-in-github",
        "colab_type": "text"
      },
      "source": [
        "<a href=\"https://colab.research.google.com/github/ManasviniDeepak/AI/blob/main/1BM22CS336_Week4_HillClimbing_N_Queens.ipynb\" target=\"_parent\"><img src=\"https://colab.research.google.com/assets/colab-badge.svg\" alt=\"Open In Colab\"/></a>"
      ]
    },
    {
      "cell_type": "code",
      "execution_count": 5,
      "metadata": {
        "colab": {
          "base_uri": "https://localhost:8080/"
        },
        "id": "TnQV70ModY-o",
        "outputId": "7f89b1f8-9e10-47e1-feb6-a5f5eefc3ed3"
      },
      "outputs": [
        {
          "output_type": "stream",
          "name": "stdout",
          "text": [
            "Enter the number of queens (size of the board): 4\n",
            "Enter the row index for queen 1 (0 to 3): 3\n",
            "Enter the row index for queen 2 (0 to 3): 1\n",
            "Enter the row index for queen 3 (0 to 3): 2\n",
            "Enter the row index for queen 4 (0 to 3): 0\n",
            "Initial board: [3, 1, 2, 0] with 2 conflicts\n",
            "Intermediate board: [1, 3, 2, 0] with 1 conflicts\n",
            "Intermediate board: [1, 3, 0, 2] with 0 conflicts\n",
            "Solution found:\n",
            "[1, 3, 0, 2]\n"
          ]
        }
      ],
      "source": [
        "import random\n",
        "\n",
        "def calculate_conflicts(board):\n",
        "    \"\"\"Calculates the number of pairs of queens attacking each other.\"\"\"\n",
        "    conflicts = 0\n",
        "    n = len(board)\n",
        "    for i in range(n):\n",
        "        for j in range(i + 1, n):\n",
        "            if board[i] == board[j] or abs(board[i] - board[j]) == abs(i - j):\n",
        "                conflicts += 1\n",
        "    return conflicts\n",
        "\n",
        "def get_neighbors(board):\n",
        "    \"\"\"Generates neighboring boards by swapping two queens.\"\"\"\n",
        "    neighbors = []\n",
        "    n = len(board)\n",
        "    for i in range(n):\n",
        "        for j in range(i + 1, n):\n",
        "            new_board = board[:]\n",
        "            new_board[i], new_board[j] = new_board[j], new_board[i]  # Swap queens\n",
        "            neighbors.append(new_board)\n",
        "    return neighbors\n",
        "\n",
        "def hill_climbing(board):\n",
        "    \"\"\"Solves the N-Queens problem using Hill Climbing algorithm.\"\"\"\n",
        "    current_conflicts = calculate_conflicts(board)\n",
        "    print(f\"Initial board: {board} with {current_conflicts} conflicts\")\n",
        "\n",
        "    while True:\n",
        "        neighbors = get_neighbors(board)\n",
        "        next_board = None\n",
        "        next_conflicts = current_conflicts\n",
        "\n",
        "        for neighbor in neighbors:\n",
        "            conflicts = calculate_conflicts(neighbor)\n",
        "            if conflicts < next_conflicts:\n",
        "                next_conflicts = conflicts\n",
        "                next_board = neighbor\n",
        "\n",
        "        if next_conflicts >= current_conflicts:\n",
        "            break  # No better neighbor found, exit\n",
        "\n",
        "        board = next_board\n",
        "        current_conflicts = next_conflicts\n",
        "        print(f\"Intermediate board: {board} with {current_conflicts} conflicts\")\n",
        "\n",
        "    return board, current_conflicts\n",
        "\n",
        "# Main program\n",
        "try:\n",
        "    n = int(input(\"Enter the number of queens (size of the board): \"))\n",
        "    if n <= 0:\n",
        "        raise ValueError(\"The number of queens must be a positive integer.\")\n",
        "\n",
        "    board = []\n",
        "    for i in range(n):\n",
        "        row = int(input(f\"Enter the row index for queen {i+1} (0 to {n-1}): \"))\n",
        "        if row < 0 or row >= n:\n",
        "            raise ValueError(\"Invalid row index. Must be within the range 0 to n-1.\")\n",
        "        board.append(row)\n",
        "\n",
        "    solution, conflicts = hill_climbing(board)\n",
        "    if conflicts == 0:\n",
        "        print(\"Solution found:\")\n",
        "        print(solution)\n",
        "    else:\n",
        "        print(\"No solution found, best configuration with conflicts:\")\n",
        "        print(solution, \"with\", conflicts, \"conflicts.\")\n",
        "except ValueError as e:\n",
        "    print(f\"Invalid input: {e}\")\n"
      ]
    },
    {
      "cell_type": "code",
      "source": [
        "import random\n",
        "\n",
        "def calculate_conflicts(board):\n",
        "    \"\"\"Calculates the number of pairs of queens attacking each other.\"\"\"\n",
        "    conflicts = 0\n",
        "    n = len(board)\n",
        "    for i in range(n):\n",
        "        for j in range(i + 1, n):\n",
        "            if board[i] == board[j] or abs(board[i] - board[j]) == abs(i - j):\n",
        "                conflicts += 1\n",
        "    return conflicts\n",
        "\n",
        "def get_neighbors(board):\n",
        "    \"\"\"Generates neighboring boards by swapping two queens.\"\"\"\n",
        "    neighbors = []\n",
        "    n = len(board)\n",
        "    for i in range(n):\n",
        "        for j in range(i + 1, n):\n",
        "            new_board = board[:]\n",
        "            new_board[i], new_board[j] = new_board[j], new_board[i]  # Swap queens\n",
        "            neighbors.append(new_board)\n",
        "    return neighbors\n",
        "\n",
        "def hill_climbing(board):\n",
        "    \"\"\"Solves the N-Queens problem using Hill Climbing algorithm.\"\"\"\n",
        "    current_conflicts = calculate_conflicts(board)\n",
        "    print(f\"Initial board: {board} with {current_conflicts} conflicts\")\n",
        "\n",
        "    while True:\n",
        "        neighbors = get_neighbors(board)\n",
        "        next_board = None\n",
        "        next_conflicts = current_conflicts\n",
        "\n",
        "        for neighbor in neighbors:\n",
        "            conflicts = calculate_conflicts(neighbor)\n",
        "            if conflicts < next_conflicts:\n",
        "                next_conflicts = conflicts\n",
        "                next_board = neighbor\n",
        "\n",
        "        if next_conflicts >= current_conflicts:\n",
        "            break  # No better neighbor found, exit\n",
        "\n",
        "        board = next_board\n",
        "        current_conflicts = next_conflicts\n",
        "        print(f\"Intermediate board: {board} with {current_conflicts} conflicts\")\n",
        "\n",
        "    return board, current_conflicts\n",
        "\n",
        "# Main program\n",
        "try:\n",
        "    n = int(input(\"Enter the number of queens (size of the board): \"))\n",
        "    if n <= 0:\n",
        "        raise ValueError(\"The number of queens must be a positive integer.\")\n",
        "\n",
        "    board = []\n",
        "    for i in range(n):\n",
        "        row = int(input(f\"Enter the row index for queen {i+1} (0 to {n-1}): \"))\n",
        "        if row < 0 or row >= n:\n",
        "            raise ValueError(\"Invalid row index. Must be within the range 0 to n-1.\")\n",
        "        board.append(row)\n",
        "\n",
        "    solution, conflicts = hill_climbing(board)\n",
        "    if conflicts == 0:\n",
        "        print(\"Solution found:\")\n",
        "        print(solution)\n",
        "    else:\n",
        "        print(\"No solution found, best configuration with conflicts:\")\n",
        "        print(solution, \"with\", conflicts, \"conflicts.\")\n",
        "except ValueError as e:\n",
        "    print(f\"Invalid input: {e}\")\n"
      ],
      "metadata": {
        "colab": {
          "base_uri": "https://localhost:8080/"
        },
        "id": "gfWWQC-Tih8i",
        "outputId": "5f887af9-b950-41d3-a695-232b41120868"
      },
      "execution_count": 6,
      "outputs": [
        {
          "output_type": "stream",
          "name": "stdout",
          "text": [
            "Enter the number of queens (size of the board): 8\n",
            "Enter the row index for queen 1 (0 to 7): 1\n",
            "Enter the row index for queen 2 (0 to 7): 0\n",
            "Enter the row index for queen 3 (0 to 7): 2\n",
            "Enter the row index for queen 4 (0 to 7): 3\n",
            "Enter the row index for queen 5 (0 to 7): 4\n",
            "Enter the row index for queen 6 (0 to 7): 5\n",
            "Enter the row index for queen 7 (0 to 7): 6\n",
            "Enter the row index for queen 8 (0 to 7): 7\n",
            "Initial board: [1, 0, 2, 3, 4, 5, 6, 7] with 16 conflicts\n",
            "Intermediate board: [1, 0, 5, 3, 4, 2, 6, 7] with 8 conflicts\n",
            "Intermediate board: [1, 0, 5, 7, 4, 2, 6, 3] with 4 conflicts\n",
            "Intermediate board: [5, 0, 1, 7, 4, 2, 6, 3] with 3 conflicts\n",
            "Intermediate board: [5, 0, 1, 6, 4, 2, 7, 3] with 1 conflicts\n",
            "No solution found, best configuration with conflicts:\n",
            "[5, 0, 1, 6, 4, 2, 7, 3] with 1 conflicts.\n"
          ]
        }
      ]
    }
  ]
}