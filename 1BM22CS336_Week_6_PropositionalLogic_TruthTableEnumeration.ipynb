{
  "nbformat": 4,
  "nbformat_minor": 0,
  "metadata": {
    "colab": {
      "provenance": [],
      "authorship_tag": "ABX9TyNS5odl2LSRBByiWl/ba8fa",
      "include_colab_link": true
    },
    "kernelspec": {
      "name": "python3",
      "display_name": "Python 3"
    },
    "language_info": {
      "name": "python"
    }
  },
  "cells": [
    {
      "cell_type": "markdown",
      "metadata": {
        "id": "view-in-github",
        "colab_type": "text"
      },
      "source": [
        "<a href=\"https://colab.research.google.com/github/ManasviniDeepak/AI/blob/main/1BM22CS336_Week_6_PropositionalLogic_TruthTableEnumeration.ipynb\" target=\"_parent\"><img src=\"https://colab.research.google.com/assets/colab-badge.svg\" alt=\"Open In Colab\"/></a>"
      ]
    },
    {
      "cell_type": "code",
      "execution_count": 6,
      "metadata": {
        "colab": {
          "base_uri": "https://localhost:8080/"
        },
        "id": "fNRrMLNreP9I",
        "outputId": "5298b5a5-b77b-4622-af94-ee2aa9773ceb"
      },
      "outputs": [
        {
          "output_type": "stream",
          "name": "stdout",
          "text": [
            "Enter the knowledge base (KB) as a list of logical statements. Enter 'done' when finished.\n",
            "Enter a logical statement: Implies(q,p)\n",
            "Enter a logical statement: Implies(p,Not(q))\n",
            "Enter a logical statement: Or(q,r)\n",
            "Enter a logical statement: done\n",
            "Enter the queries to check entailment. Enter 'done' when finished.\n",
            "Enter a query: r\n",
            "Enter a query: Implies(r,p)\n",
            "Enter a query: Implies(q,r)\n",
            "Enter a query: done\n",
            "Query 1: The knowledge base entails the query 'r'.\n",
            "Query 2: The knowledge base does NOT entail the query 'Implies(r, p)'.\n",
            "Query 3: The knowledge base entails the query 'Implies(q, r)'.\n"
          ]
        }
      ],
      "source": [
        "from sympy.logic.boolalg import Or, And, Not, Implies\n",
        "from sympy import symbols, sympify\n",
        "\n",
        "def parse_expression(expr):\n",
        "    \"\"\"Parse a logical expression entered by the user into a sympy logical formula.\"\"\"\n",
        "\n",
        "    # Replace human-readable operators with sympy equivalents\n",
        "    expr = expr.replace(\"and\", \"&\").replace(\"or\", \"|\").replace(\"not\", \"~\").replace(\"implies\", \"->\")\n",
        "\n",
        "    try:\n",
        "        return sympify(expr)\n",
        "    except Exception as e:\n",
        "        print(f\"Error parsing expression: {e}\")\n",
        "        return None\n",
        "\n",
        "def check_entailment(kb, query):\n",
        "    \"\"\"Check if the knowledge base (kb) entails the query.\"\"\"\n",
        "    try:\n",
        "        # Combine KB with the negation of the query: KB AND NOT(query)\n",
        "        entailment_expr = And(*kb) & Not(query)\n",
        "        # If the entailment expression is a contradiction (always False), it means KB entails query\n",
        "        if entailment_expr.simplify() == False:\n",
        "            return True\n",
        "        else:\n",
        "            return False\n",
        "    except Exception as e:\n",
        "        print(f\"Error checking entailment: {e}\")\n",
        "        return False\n",
        "\n",
        "def main():\n",
        "    # Step 1: Take user input for knowledge base\n",
        "    print(\"Enter the knowledge base (KB) as a list of logical statements. Enter 'done' when finished.\")\n",
        "    kb = []\n",
        "    while True:\n",
        "        expr = input(\"Enter a logical statement: \").strip()\n",
        "        if expr.lower() == 'done':\n",
        "            break\n",
        "        parsed_expr = parse_expression(expr)\n",
        "        if parsed_expr:\n",
        "            kb.append(parsed_expr)\n",
        "\n",
        "    # Step 2: Take user input for multiple queries\n",
        "    print(\"Enter the queries to check entailment. Enter 'done' when finished.\")\n",
        "    queries = []\n",
        "    while True:\n",
        "        query_expr = input(\"Enter a query: \").strip()\n",
        "        if query_expr.lower() == 'done':\n",
        "            break\n",
        "        query = parse_expression(query_expr)\n",
        "        if query:\n",
        "            queries.append(query)\n",
        "\n",
        "    # Step 3: Check if KB entails each query\n",
        "    for i, query in enumerate(queries):\n",
        "        if check_entailment(kb, query):\n",
        "            print(f\"Query {i+1}: The knowledge base entails the query '{query}'.\")\n",
        "        else:\n",
        "            print(f\"Query {i+1}: The knowledge base does NOT entail the query '{query}'.\")\n",
        "\n",
        "if __name__ == \"__main__\":\n",
        "    main()\n"
      ]
    }
  ]
}